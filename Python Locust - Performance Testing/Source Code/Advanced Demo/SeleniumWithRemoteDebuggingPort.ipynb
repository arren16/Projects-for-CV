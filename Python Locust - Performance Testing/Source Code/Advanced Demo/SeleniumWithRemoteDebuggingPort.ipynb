{
 "cells": [
  {
   "cell_type": "markdown",
   "metadata": {},
   "source": [
    "**NHÓM C2: Performance Testing (Locust)**"
   ]
  },
  {
   "cell_type": "markdown",
   "metadata": {},
   "source": [
    "# Code phụ: Selenium trên ứng dụng Gmail\n",
    "\n",
    "Mục đích: Minh hoạ việc gửi Gmail tự động bằng Selenium với demo riêng biệt trước khi tích hợp vào Locust"
   ]
  },
  {
   "cell_type": "markdown",
   "metadata": {},
   "source": [
    "**Môi trường thực thi:**\n",
    "\n",
    "- MacOS Sonoma 14.0\n",
    "- CPU Apple M1\n",
    "- Python 3.10.10\n",
    "- Trình duyệt Microsoft Edge Version 118.0.2088.76 (Official build) (arm64)"
   ]
  },
  {
   "cell_type": "markdown",
   "metadata": {},
   "source": [
    "## Cài đặt Selenium"
   ]
  },
  {
   "cell_type": "code",
   "execution_count": 1,
   "metadata": {},
   "outputs": [
    {
     "name": "stdout",
     "output_type": "stream",
     "text": [
      "Requirement already satisfied: selenium in /Library/Frameworks/Python.framework/Versions/3.10/lib/python3.10/site-packages (4.14.0)\n",
      "Requirement already satisfied: urllib3<3,>=1.26 in /Library/Frameworks/Python.framework/Versions/3.10/lib/python3.10/site-packages (from urllib3[socks]<3,>=1.26->selenium) (1.26.15)\n",
      "Requirement already satisfied: trio~=0.17 in /Library/Frameworks/Python.framework/Versions/3.10/lib/python3.10/site-packages (from selenium) (0.22.2)\n",
      "Requirement already satisfied: trio-websocket~=0.9 in /Library/Frameworks/Python.framework/Versions/3.10/lib/python3.10/site-packages (from selenium) (0.11.1)\n",
      "Requirement already satisfied: certifi>=2021.10.8 in /Library/Frameworks/Python.framework/Versions/3.10/lib/python3.10/site-packages (from selenium) (2023.5.7)\n",
      "Requirement already satisfied: attrs>=20.1.0 in /Users/4rr311/Library/Python/3.10/lib/python/site-packages (from trio~=0.17->selenium) (22.2.0)\n",
      "Requirement already satisfied: sortedcontainers in /Library/Frameworks/Python.framework/Versions/3.10/lib/python3.10/site-packages (from trio~=0.17->selenium) (2.4.0)\n",
      "Requirement already satisfied: idna in /Users/4rr311/Library/Python/3.10/lib/python/site-packages (from trio~=0.17->selenium) (3.4)\n",
      "Requirement already satisfied: outcome in /Library/Frameworks/Python.framework/Versions/3.10/lib/python3.10/site-packages (from trio~=0.17->selenium) (1.3.0.post0)\n",
      "Requirement already satisfied: sniffio in /Users/4rr311/Library/Python/3.10/lib/python/site-packages (from trio~=0.17->selenium) (1.3.0)\n",
      "Requirement already satisfied: exceptiongroup>=1.0.0rc9 in /Library/Frameworks/Python.framework/Versions/3.10/lib/python3.10/site-packages (from trio~=0.17->selenium) (1.1.3)\n",
      "Requirement already satisfied: wsproto>=0.14 in /Library/Frameworks/Python.framework/Versions/3.10/lib/python3.10/site-packages (from trio-websocket~=0.9->selenium) (1.2.0)\n",
      "Requirement already satisfied: PySocks!=1.5.7,<2.0,>=1.5.6 in /Library/Frameworks/Python.framework/Versions/3.10/lib/python3.10/site-packages (from urllib3[socks]<3,>=1.26->selenium) (1.7.1)\n",
      "Requirement already satisfied: h11<1,>=0.9.0 in /Library/Frameworks/Python.framework/Versions/3.10/lib/python3.10/site-packages (from wsproto>=0.14->trio-websocket~=0.9->selenium) (0.14.0)\n"
     ]
    }
   ],
   "source": [
    "!pip install selenium"
   ]
  },
  {
   "cell_type": "markdown",
   "metadata": {},
   "source": [
    "## Import thư viện"
   ]
  },
  {
   "cell_type": "code",
   "execution_count": 2,
   "metadata": {},
   "outputs": [],
   "source": [
    "from selenium import webdriver\n",
    "from selenium.webdriver.common.keys import Keys\n",
    "from selenium.webdriver.common.by import By\n",
    "\n",
    "import datetime\n",
    "import os"
   ]
  },
  {
   "cell_type": "markdown",
   "metadata": {},
   "source": [
    "## Hàm tạo tiêu đề và nội dung email"
   ]
  },
  {
   "cell_type": "code",
   "execution_count": 3,
   "metadata": {},
   "outputs": [
    {
     "name": "stdout",
     "output_type": "stream",
     "text": [
      "Example:\n",
      "-> Title  : \"Locust Testing at 17:08:52 20/11/2023\"\n",
      "-> Content: \"This is a test (executed at 17:08:52 20/11/2023).\"\n"
     ]
    }
   ],
   "source": [
    "def create_email():\n",
    "    # Lấy ngày giờ hiện tại\n",
    "    current_datetime = datetime.datetime.now()\n",
    "\n",
    "    # Format ngày giờ theo dạng \"hh:mm:ss dd/mm/yyyy\"\n",
    "    formatted_datetime = current_datetime.strftime(\"%H:%M:%S %d/%m/%Y\")\n",
    "\n",
    "\n",
    "    email = {\n",
    "        \"title\" : f\"Locust Testing at {formatted_datetime}\",\n",
    "        \"content\" : f\"This is a test (executed at {formatted_datetime}).\"\n",
    "    }\n",
    "\n",
    "    return email\n",
    "\n",
    "create_email_example = create_email()\n",
    "print(f\"Example:\")\n",
    "print(f'''-> Title  : \"{create_email_example['title']}\"''')\n",
    "print(f'''-> Content: \"{create_email_example['content']}\"''')"
   ]
  },
  {
   "cell_type": "markdown",
   "metadata": {},
   "source": [
    "## Hàm đổi màu phần tử trên trang web"
   ]
  },
  {
   "cell_type": "code",
   "execution_count": 4,
   "metadata": {},
   "outputs": [],
   "source": [
    "def change_element_color(browser, element):\n",
    "    browser.execute_script(\n",
    "        \"arguments[0].style.backgroundColor = 'lightgreen';\", \n",
    "        element\n",
    "    )"
   ]
  },
  {
   "cell_type": "markdown",
   "metadata": {},
   "source": [
    "## Hàm đọc file văn bản"
   ]
  },
  {
   "cell_type": "code",
   "execution_count": 5,
   "metadata": {},
   "outputs": [],
   "source": [
    "def read_file(file_path):\n",
    "    try:\n",
    "        with open(file_path, 'r') as file:\n",
    "            file_contents = file.read()\n",
    "        return file_contents\n",
    "    except FileNotFoundError:\n",
    "        return f\"File not found: {file_path}\"\n",
    "    except Exception as e:\n",
    "        return f\"An error occurred: {str(e)}\""
   ]
  },
  {
   "cell_type": "markdown",
   "metadata": {},
   "source": [
    "## Địa chỉ email gửi và email nhận"
   ]
  },
  {
   "cell_type": "code",
   "execution_count": 6,
   "metadata": {},
   "outputs": [],
   "source": [
    "# Tạo file lưu password (để không trình chiếu password khi demo)\n",
    "# !touch \"password.pass\" # Lệnh này không gây ảnh hưởng nếu file đã tồn tại\n",
    "\n",
    "source_email = \"pqvuong.dev.testing@gmail.com\"\n",
    "source_password = read_file(\"password.pass\")\n",
    "dest_email = \"20120406@student.hcmus.edu.vn\""
   ]
  },
  {
   "cell_type": "markdown",
   "metadata": {},
   "source": [
    "## Microsoft Edge Remote Debugging Port (tránh bị nhận diện phần mềm automation)"
   ]
  },
  {
   "cell_type": "code",
   "execution_count": 7,
   "metadata": {},
   "outputs": [
    {
     "data": {
      "text/plain": [
       "0"
      ]
     },
     "execution_count": 7,
     "metadata": {},
     "output_type": "execute_result"
    }
   ],
   "source": [
    "browser_instance_data_dir = \"/Users/4rr311/Documents/VectorA/KHTN/Nam4/HKI/Kiem thu phan mem/Seminar/Locust-Seminar/Advanced Demo/browser_instance_data/test_instance\"\n",
    "port_to_run_browser = 39999\n",
    "\n",
    "command = f'''open -na \"Microsoft Edge.app\" --args\n",
    "            --remote-debugging-port={port_to_run_browser}\n",
    "            --user-data-dir=\"{browser_instance_data_dir}\"'''\n",
    "\n",
    "os.system(command.replace(\"\\n\", \" \"))"
   ]
  },
  {
   "cell_type": "markdown",
   "metadata": {},
   "source": [
    "## Kết nối Selenium đến trình duyệt Edge ở port được mở"
   ]
  },
  {
   "cell_type": "code",
   "execution_count": 8,
   "metadata": {},
   "outputs": [],
   "source": [
    "options = webdriver.EdgeOptions()\n",
    "options.add_experimental_option(\"debuggerAddress\", f\"localhost:{port_to_run_browser}\")\n",
    "# options.add_argument(\"headless\") # Chạy Selenium ở chế độ headless (không hiển thị giao diện browser)\n",
    "\n",
    "browser = webdriver.Edge(options=options)\n",
    "browser.maximize_window() # Phóng to cửa sổ trình duyệt"
   ]
  },
  {
   "cell_type": "markdown",
   "metadata": {},
   "source": [
    "## Đi đến trang đăng nhập Gmail"
   ]
  },
  {
   "cell_type": "code",
   "execution_count": 9,
   "metadata": {},
   "outputs": [],
   "source": [
    "browser.get('https://mail.google.com/mail/u/0/')"
   ]
  },
  {
   "cell_type": "markdown",
   "metadata": {},
   "source": [
    "## Nhập email và bấm next để đến trang nhập mật khẩu"
   ]
  },
  {
   "cell_type": "code",
   "execution_count": 10,
   "metadata": {},
   "outputs": [],
   "source": [
    "def enter_email(browser, email):\n",
    "    username_input_field = browser.find_element(\n",
    "        By.ID, 'identifierId'\n",
    "    )\n",
    "    change_element_color(browser, username_input_field)\n",
    "    username_input_field.send_keys(email)\n",
    "\n",
    "    next_button_on_username_page = browser.find_element(\n",
    "        By.XPATH,\n",
    "        '//button[.//span[contains(text(),\"Next\") or contains(text(),\"Tiếp theo\")]]'\n",
    "    )\n",
    "    change_element_color(browser, next_button_on_username_page)\n",
    "    next_button_on_username_page.click()\n",
    "\n",
    "enter_email(browser, source_email)"
   ]
  },
  {
   "cell_type": "markdown",
   "metadata": {},
   "source": [
    "## Nhập mật khẩu và nhấn next để đăng nhập"
   ]
  },
  {
   "cell_type": "code",
   "execution_count": 11,
   "metadata": {},
   "outputs": [],
   "source": [
    "def enter_password(browser, password):\n",
    "    password_input_field = browser.find_element(\n",
    "            By.XPATH, \n",
    "            '//input[contains(@aria-label,\"Enter your password\") or contains(@aria-label,\"Nhập mật khẩu của bạn\")]'\n",
    "        )\n",
    "    change_element_color(browser, password_input_field)\n",
    "    password_input_field.send_keys(password)\n",
    "\n",
    "    next_button_on_password_page = browser.find_element(\n",
    "        By.XPATH,\n",
    "        '//button[.//span[contains(text(),\"Next\") or contains(text(),\"Tiếp theo\")]]'\n",
    "    )\n",
    "    change_element_color(browser, next_button_on_password_page)\n",
    "    next_button_on_password_page.click()\n",
    "\n",
    "enter_password(browser, source_password)"
   ]
  },
  {
   "cell_type": "markdown",
   "metadata": {},
   "source": [
    "## Nhấn nút soạn thư"
   ]
  },
  {
   "cell_type": "code",
   "execution_count": 12,
   "metadata": {},
   "outputs": [],
   "source": [
    "def start_a_new_email(browser):\n",
    "    new_email_button = browser.find_element(\n",
    "        By.XPATH,\n",
    "        \"//*[text()='Soạn thư']\"\n",
    "    )\n",
    "    change_element_color(browser, new_email_button)\n",
    "    new_email_button.click()\n",
    "\n",
    "start_a_new_email(browser)"
   ]
  },
  {
   "cell_type": "markdown",
   "metadata": {},
   "source": [
    "## Nhập người nhận, tiêu đề và nội dung email"
   ]
  },
  {
   "cell_type": "code",
   "execution_count": 13,
   "metadata": {},
   "outputs": [],
   "source": [
    "def enter_email_details(browser, dest_email):\n",
    "    email = create_email()\n",
    "\n",
    "    # Nhập người nhận\n",
    "    dest_email_field = browser.find_element(\n",
    "        By.XPATH, \n",
    "        \"//input[@role='combobox']\"\n",
    "    )\n",
    "    change_element_color(browser, dest_email_field)\n",
    "    dest_email_field.send_keys(dest_email)\n",
    "\n",
    "    # Nhập tiêu đề\n",
    "    email_title_field = browser.find_element(\n",
    "        By.XPATH, \n",
    "        \"//input[@name='subjectbox']\"\n",
    "    )\n",
    "    change_element_color(browser, email_title_field)\n",
    "    email_title_field.send_keys(email[\"title\"])\n",
    "\n",
    "    # Nhập nội dung email\n",
    "    email_content_field = browser.find_element(\n",
    "        By.XPATH,\n",
    "        \"//div[@aria-label='Nội dung thư']\"\n",
    "    )\n",
    "    change_element_color(browser, email_content_field)\n",
    "    email_content_field.send_keys(email[\"content\"])\n",
    "\n",
    "enter_email_details(browser, dest_email)"
   ]
  },
  {
   "cell_type": "markdown",
   "metadata": {},
   "source": [
    "## Nhấn nút gửi"
   ]
  },
  {
   "cell_type": "code",
   "execution_count": 14,
   "metadata": {},
   "outputs": [],
   "source": [
    "def send_email(browser):\n",
    "    send_email_button = browser.find_element(\n",
    "        By.XPATH, \n",
    "        \"//div[text()='Gửi']\"\n",
    "    )\n",
    "    change_element_color(browser, send_email_button)\n",
    "    send_email_button.click()\n",
    "\n",
    "send_email(browser)"
   ]
  }
 ],
 "metadata": {
  "kernelspec": {
   "display_name": "Python 3.10.8 64-bit",
   "language": "python",
   "name": "python3"
  },
  "language_info": {
   "codemirror_mode": {
    "name": "ipython",
    "version": 3
   },
   "file_extension": ".py",
   "mimetype": "text/x-python",
   "name": "python",
   "nbconvert_exporter": "python",
   "pygments_lexer": "ipython3",
   "version": "3.10.10"
  },
  "toc": {
   "nav_menu": {},
   "number_sections": false,
   "sideBar": true,
   "skip_h1_title": false,
   "title_cell": "Table of Contents",
   "title_sidebar": "Contents",
   "toc_cell": false,
   "toc_position": {
    "height": "calc(100% - 180px)",
    "left": "10px",
    "top": "150px",
    "width": "165px"
   },
   "toc_section_display": true,
   "toc_window_display": true
  },
  "vscode": {
   "interpreter": {
    "hash": "aee8b7b246df8f9039afb4144a1f6fd8d2ca17a180786b69acc140d282b71a49"
   }
  }
 },
 "nbformat": 4,
 "nbformat_minor": 2
}
